{
 "cells": [
  {
   "cell_type": "code",
   "execution_count": null,
   "metadata": {},
   "outputs": [],
   "source": []
  },
  {
   "cell_type": "markdown",
   "metadata": {},
   "source": [
    "#Реализуйте класс \"Нейрон\", у которого будет несколько методов: \n",
    "# __init__. Принимает на вход массив весов нейрона --- w = (w_1,..., w_n),\n",
    "# а также функцию активации ff (аргумент по умолчанию f(x) = x). Сохраняет веса и функцию внутри класса.\n",
    "# forward. Принимает на вход массив x = (x_1, ..., x_n) --- входы нейрона.\n",
    "# Возвращает f(w_1x_1 + ... + w_nx_n).\n",
    "# backlog. Возвращает массив x, который подавался на вход функции forward при её последнем вызове.\n",
    "# Если ранее функция forward не вызывалось, возвращает None."
   ]
  },
  {
   "cell_type": "code",
   "execution_count": null,
   "metadata": {},
   "outputs": [],
   "source": [
    "class Neuron:\n",
    "\n",
    "    def __init__(self, w, f = lambda x: x):\n",
    "        self.w = w\n",
    "        self.f = f\n",
    "\n",
    "    def forward(self, x):\n",
    "        self x = x\n",
    "        ыгь = 0.0\n",
    "        for i in range(len(x)):\n",
    "            sum += self.w(i)*self.x(i)\n",
    "\n",
    "    def backlog(self):\n",
    "        #YOUR CODE HERE"
   ]
  }
 ],
 "metadata": {
  "language_info": {
   "name": "python"
  },
  "orig_nbformat": 4
 },
 "nbformat": 4,
 "nbformat_minor": 2
}
